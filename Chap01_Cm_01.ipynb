{
  "nbformat": 4,
  "nbformat_minor": 0,
  "metadata": {
    "colab": {
      "provenance": [],
      "authorship_tag": "ABX9TyP1/wTxO8RHjU4E3TpwtFpE",
      "include_colab_link": true
    },
    "kernelspec": {
      "name": "python3",
      "display_name": "Python 3"
    },
    "language_info": {
      "name": "python"
    }
  },
  "cells": [
    {
      "cell_type": "markdown",
      "metadata": {
        "id": "view-in-github",
        "colab_type": "text"
      },
      "source": [
        "<a href=\"https://colab.research.google.com/github/TU24007/EU_M_Math/blob/main/Chap01_Cm_01.ipynb\" target=\"_parent\"><img src=\"https://colab.research.google.com/assets/colab-badge.svg\" alt=\"Open In Colab\"/></a>"
      ]
    },
    {
      "cell_type": "markdown",
      "source": [],
      "metadata": {
        "id": "S6Ir0vWOBJvA"
      }
    },
    {
      "cell_type": "code",
      "execution_count": 24,
      "metadata": {
        "colab": {
          "base_uri": "https://localhost:8080/"
        },
        "id": "Yq65MJwd7r7e",
        "outputId": "419b4af4-16cf-4464-efe8-39bd06707800"
      },
      "outputs": [
        {
          "output_type": "execute_result",
          "data": {
            "text/plain": [
              "[2, 3, 5, 7]"
            ]
          },
          "metadata": {},
          "execution_count": 24
        }
      ],
      "source": [
        "def is_prime(n):\n",
        "    if n <= 1:\n",
        "        return False\n",
        "    for i in range(2,int(n**0.5)+1):\n",
        "      if n%i==0:\n",
        "        return False\n",
        "    return True\n",
        "\n",
        "\n",
        "data_list=[1,2,3,4,5,6,7,8,9,10]\n",
        "\n",
        "[i for i in data_list if is_prime(i)]\n"
      ]
    },
    {
      "cell_type": "code",
      "source": [],
      "metadata": {
        "id": "D6OblwcJCKsu"
      },
      "execution_count": null,
      "outputs": []
    },
    {
      "cell_type": "code",
      "execution_count": 25,
      "metadata": {
        "colab": {
          "base_uri": "https://localhost:8080/"
        },
        "outputId": "3fa7a5f5-d171-4976-a1dd-3bce1a73af06",
        "id": "YfniW6h2EeCi"
      },
      "outputs": [
        {
          "output_type": "execute_result",
          "data": {
            "text/plain": [
              "[2,\n",
              " 3,\n",
              " 5,\n",
              " 7,\n",
              " 11,\n",
              " 13,\n",
              " 17,\n",
              " 19,\n",
              " 23,\n",
              " 29,\n",
              " 31,\n",
              " 37,\n",
              " 41,\n",
              " 43,\n",
              " 47,\n",
              " 53,\n",
              " 59,\n",
              " 61,\n",
              " 67,\n",
              " 71,\n",
              " 73,\n",
              " 79,\n",
              " 83,\n",
              " 89,\n",
              " 97,\n",
              " 101,\n",
              " 103,\n",
              " 107,\n",
              " 109,\n",
              " 113,\n",
              " 127,\n",
              " 131,\n",
              " 137,\n",
              " 139,\n",
              " 149,\n",
              " 151,\n",
              " 157,\n",
              " 163,\n",
              " 167,\n",
              " 173,\n",
              " 179,\n",
              " 181,\n",
              " 191,\n",
              " 193,\n",
              " 197,\n",
              " 199,\n",
              " 211,\n",
              " 223,\n",
              " 227,\n",
              " 229,\n",
              " 233,\n",
              " 239,\n",
              " 241,\n",
              " 251,\n",
              " 257,\n",
              " 263,\n",
              " 269,\n",
              " 271,\n",
              " 277,\n",
              " 281,\n",
              " 283,\n",
              " 293,\n",
              " 307,\n",
              " 311,\n",
              " 313,\n",
              " 317,\n",
              " 331,\n",
              " 337,\n",
              " 347,\n",
              " 349,\n",
              " 353,\n",
              " 359,\n",
              " 367,\n",
              " 373,\n",
              " 379,\n",
              " 383,\n",
              " 389,\n",
              " 397,\n",
              " 401,\n",
              " 409,\n",
              " 419,\n",
              " 421,\n",
              " 431,\n",
              " 433,\n",
              " 439,\n",
              " 443,\n",
              " 449,\n",
              " 457,\n",
              " 461,\n",
              " 463,\n",
              " 467,\n",
              " 479,\n",
              " 487,\n",
              " 491,\n",
              " 499]"
            ]
          },
          "metadata": {},
          "execution_count": 25
        }
      ],
      "source": [
        "def is_prime(n):\n",
        "    if n <= 1:\n",
        "        return False\n",
        "    for i in range(2,int(n**0.5)+1):\n",
        "      if n%i==0:\n",
        "        return False\n",
        "    return True\n",
        "\n",
        "#data_list=range(1,N)\n",
        "#N=500で実行\n",
        "data_list=range(1,500)\n",
        "\n",
        "[i for i in data_list if is_prime(i)]\n"
      ]
    }
  ]
}