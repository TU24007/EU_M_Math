{
  "nbformat": 4,
  "nbformat_minor": 0,
  "metadata": {
    "colab": {
      "provenance": [],
      "authorship_tag": "ABX9TyO4p9D/TjFKKW2I4VhBrCdf",
      "include_colab_link": true
    },
    "kernelspec": {
      "name": "python3",
      "display_name": "Python 3"
    },
    "language_info": {
      "name": "python"
    }
  },
  "cells": [
    {
      "cell_type": "markdown",
      "metadata": {
        "id": "view-in-github",
        "colab_type": "text"
      },
      "source": [
        "<a href=\"https://colab.research.google.com/github/TU24007/EU_M_Math/blob/main/Chap04_Cm_01.ipynb\" target=\"_parent\"><img src=\"https://colab.research.google.com/assets/colab-badge.svg\" alt=\"Open In Colab\"/></a>"
      ]
    },
    {
      "cell_type": "code",
      "execution_count": 4,
      "metadata": {
        "colab": {
          "base_uri": "https://localhost:8080/",
          "height": 35
        },
        "id": "IGDLi1OXptJq",
        "outputId": "b92f4c94-c941-42be-d0ec-4addfc2da9d5"
      },
      "outputs": [
        {
          "output_type": "execute_result",
          "data": {
            "text/plain": [
              "'%.3f'"
            ],
            "application/vnd.google.colaboratory.intrinsic+json": {
              "type": "string"
            }
          },
          "metadata": {},
          "execution_count": 4
        }
      ],
      "source": [
        "import numpy as np\n",
        "import numpy.random as random\n",
        "import scipy as sp\n",
        "import pandas as pd\n",
        "from pandas import Series,DataFrame\n",
        "\n",
        "import matplotlib.pyplot as plt\n",
        "import matplotlib as mpl\n",
        "import seaborn as sns\n",
        "%matplotlib inline\n",
        "\n",
        "%precision 3"
      ]
    },
    {
      "cell_type": "code",
      "source": [
        "import requests,zipfile\n",
        "from io import StringIO\n",
        "import io"
      ],
      "metadata": {
        "id": "TZwOZFu9pvVo"
      },
      "execution_count": 5,
      "outputs": []
    },
    {
      "cell_type": "code",
      "source": [
        "mkdir chap3"
      ],
      "metadata": {
        "id": "1Q-LZ6l2lfvE"
      },
      "execution_count": 6,
      "outputs": []
    },
    {
      "cell_type": "code",
      "source": [
        "cd ./chap3"
      ],
      "metadata": {
        "colab": {
          "base_uri": "https://localhost:8080/"
        },
        "id": "V0rI6zqNp4zU",
        "outputId": "27ed8c70-dfca-4280-e55f-811f08c82779"
      },
      "execution_count": 7,
      "outputs": [
        {
          "output_type": "stream",
          "name": "stdout",
          "text": [
            "/content/chap3\n"
          ]
        }
      ]
    },
    {
      "cell_type": "code",
      "source": [
        "url = 'https://archive.ics.uci.edu/ml/machine-learning-databases/00356/student.zip'\n",
        "\n",
        "r=requests.get(url,stream=True)\n",
        "\n",
        "z=zipfile.ZipFile(io.BytesIO(r.content))\n",
        "z.extractall()"
      ],
      "metadata": {
        "id": "vvqyHfGYp5SD"
      },
      "execution_count": 8,
      "outputs": []
    },
    {
      "cell_type": "code",
      "source": [
        "student_data_math =pd.read_csv('student-mat.csv',sep=';')\n",
        "student_data_por =pd.read_csv('student-por.csv',sep=';')\n",
        "student_data_merge=pd.merge(student_data_math\n",
        "                            ,student_data_por\n",
        "                            ,on=['school','sex','age','address','famsize','Pstatus','Medu'\n",
        "                                  ,'Fedu','Mjob','Fjob','reason','nursery','internet']\n",
        "                            ,how='inner'\n",
        "                            ,suffixes=('_math','_por'))\n",
        "\n",
        "from scipy import stats"
      ],
      "metadata": {
        "id": "uD2n67Zfp69S"
      },
      "execution_count": 9,
      "outputs": []
    },
    {
      "cell_type": "code",
      "source": [
        "print('数学の欠席者平均:',student_data_merge.absences_math.mean())\n",
        "print('ポルトガル語の欠席平均:',student_data_merge.absences_por.mean())\n",
        "\n",
        "t,p=stats.ttest_rel(student_data_merge.absences_math,student_data_merge.absences_por)\n",
        "print('p値=',p)"
      ],
      "metadata": {
        "colab": {
          "base_uri": "https://localhost:8080/"
        },
        "id": "WDl7_sFlqm3B",
        "outputId": "7f279ae0-8826-4119-ce61-1fccb8f277c0"
      },
      "execution_count": 13,
      "outputs": [
        {
          "output_type": "stream",
          "name": "stdout",
          "text": [
            "数学の欠席者平均: 5.319371727748691\n",
            "ポルトガル語の欠席平均: 3.6727748691099475\n",
            "p値= 2.3441656888384195e-06\n"
          ]
        }
      ]
    },
    {
      "cell_type": "code",
      "source": [
        "print('数学の勉強時間平均:',student_data_merge.studytime_math.mean())\n",
        "print('ポルトガル語の勉強時間平均:',student_data_merge.studytime_por.mean())\n",
        "\n",
        "t,p=stats.ttest_rel(student_data_merge.studytime_math,student_data_merge.studytime_por)\n",
        "print('p値=',p)"
      ],
      "metadata": {
        "colab": {
          "base_uri": "https://localhost:8080/"
        },
        "id": "VohGRtObrUX6",
        "outputId": "7baa584f-bf6d-4a0f-bd60-269c216eeaa1"
      },
      "execution_count": 14,
      "outputs": [
        {
          "output_type": "stream",
          "name": "stdout",
          "text": [
            "数学の勉強時間平均: 2.0340314136125652\n",
            "ポルトガル語の勉強時間平均: 2.0392670157068062\n",
            "p値= 0.5643842756976525\n"
          ]
        }
      ]
    }
  ]
}