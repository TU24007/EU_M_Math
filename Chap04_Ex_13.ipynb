{
  "nbformat": 4,
  "nbformat_minor": 0,
  "metadata": {
    "colab": {
      "provenance": [],
      "authorship_tag": "ABX9TyMBI2iZvQofyCXJ21qqntpr",
      "include_colab_link": true
    },
    "kernelspec": {
      "name": "python3",
      "display_name": "Python 3"
    },
    "language_info": {
      "name": "python"
    }
  },
  "cells": [
    {
      "cell_type": "markdown",
      "metadata": {
        "id": "view-in-github",
        "colab_type": "text"
      },
      "source": [
        "<a href=\"https://colab.research.google.com/github/TU24007/EU_M_Math/blob/main/Chap04_Ex_13.ipynb\" target=\"_parent\"><img src=\"https://colab.research.google.com/assets/colab-badge.svg\" alt=\"Open In Colab\"/></a>"
      ]
    },
    {
      "cell_type": "code",
      "execution_count": 4,
      "metadata": {
        "colab": {
          "base_uri": "https://localhost:8080/",
          "height": 35
        },
        "id": "yVBaDeISk0oQ",
        "outputId": "1c8fbd7a-9f06-45c9-ed9c-2ca9ba3c658b"
      },
      "outputs": [
        {
          "output_type": "execute_result",
          "data": {
            "text/plain": [
              "'%.3f'"
            ],
            "application/vnd.google.colaboratory.intrinsic+json": {
              "type": "string"
            }
          },
          "metadata": {},
          "execution_count": 4
        }
      ],
      "source": [
        "import numpy as np\n",
        "import numpy.random as random\n",
        "import scipy as sp\n",
        "import pandas as pd\n",
        "from pandas import Series,DataFrame\n",
        "\n",
        "import matplotlib.pyplot as plt\n",
        "import matplotlib as mpl\n",
        "import seaborn as sns\n",
        "%matplotlib inline\n",
        "\n",
        "%precision 3"
      ]
    },
    {
      "cell_type": "code",
      "source": [
        "import requests,zipfile\n",
        "from io import StringIO\n",
        "import io"
      ],
      "metadata": {
        "id": "eFuXq6NsmEb8"
      },
      "execution_count": 5,
      "outputs": []
    },
    {
      "cell_type": "code",
      "source": [
        "mkdir chap3"
      ],
      "metadata": {
        "id": "1Q-LZ6l2lfvE"
      },
      "execution_count": 6,
      "outputs": []
    },
    {
      "cell_type": "code",
      "source": [
        "cd ./chap3"
      ],
      "metadata": {
        "colab": {
          "base_uri": "https://localhost:8080/"
        },
        "id": "1qN_ngurHQAJ",
        "outputId": "60c6ca7c-6087-4823-82aa-cd452dd5e7f0"
      },
      "execution_count": 7,
      "outputs": [
        {
          "output_type": "stream",
          "name": "stdout",
          "text": [
            "/content/chap3\n"
          ]
        }
      ]
    },
    {
      "cell_type": "code",
      "source": [
        "url = 'https://archive.ics.uci.edu/ml/machine-learning-databases/00356/student.zip'\n",
        "\n",
        "r=requests.get(url,stream=True)\n",
        "\n",
        "z=zipfile.ZipFile(io.BytesIO(r.content))\n",
        "z.extractall()"
      ],
      "metadata": {
        "id": "yx1wgxVlKJmk"
      },
      "execution_count": 8,
      "outputs": []
    },
    {
      "cell_type": "code",
      "source": [],
      "metadata": {
        "id": "8HnYDypOmQMP"
      },
      "execution_count": 8,
      "outputs": []
    },
    {
      "cell_type": "code",
      "source": [
        "student_data_math =pd.read_csv('student-mat.csv',sep=';')\n",
        "student_data_por =pd.read_csv('student-por.csv',sep=';')\n",
        "student_data_merge=pd.merge(student_data_math\n",
        "                            ,student_data_por\n",
        "                            ,on=['school','sex','age','address','famsize','Pstatus','Medu'\n",
        "                                  ,'Fedu','Mjob','Fjob','reason','nursery','internet']\n",
        "                            ,how='inner'\n",
        "                            ,suffixes=('_math','_por'))\n",
        "\n",
        "from scipy import stats\n",
        "\n",
        "print('G2数学の成績平均:',student_data_merge.G2_math.mean())\n",
        "print('G2ポルトガル語の成績平均:',student_data_merge.G2_por.mean())\n",
        "\n",
        "t,p=stats.ttest_rel(student_data_merge.G2_math,student_data_merge.G2_por)\n",
        "print('p値=',p)"
      ],
      "metadata": {
        "colab": {
          "base_uri": "https://localhost:8080/"
        },
        "id": "xQzx9qillMpg",
        "outputId": "1c0bd2e9-4047-406c-9df2-6139206e2a00"
      },
      "execution_count": 11,
      "outputs": [
        {
          "output_type": "stream",
          "name": "stdout",
          "text": [
            "G2数学の成績平均: 10.712041884816754\n",
            "G2ポルトガル語の成績平均: 12.238219895287958\n",
            "p値= 4.0622824801348625e-19\n"
          ]
        }
      ]
    },
    {
      "cell_type": "code",
      "source": [
        "print('G3数学の成績平均:',student_data_merge.G3_math.mean())\n",
        "print('G3ポルトガル語の成績平均:',student_data_merge.G3_por.mean())\n",
        "\n",
        "t,p=stats.ttest_rel(student_data_merge.G3_math,student_data_merge.G3_por)\n",
        "print('p値=',p)"
      ],
      "metadata": {
        "colab": {
          "base_uri": "https://localhost:8080/",
          "height": 228
        },
        "id": "xdfQCDqknpB3",
        "outputId": "3fd95243-6c21-4ee9-c4af-994fe4632466"
      },
      "execution_count": 18,
      "outputs": [
        {
          "output_type": "stream",
          "name": "stdout",
          "text": [
            "G3数学の成績平均: 10.387434554973822\n",
            "G3ポルトガル語の成績平均: 12.515706806282722\n"
          ]
        },
        {
          "output_type": "error",
          "ename": "TypeError",
          "evalue": "'tuple' object is not callable",
          "traceback": [
            "\u001b[0;31m---------------------------------------------------------------------------\u001b[0m",
            "\u001b[0;31mTypeError\u001b[0m                                 Traceback (most recent call last)",
            "\u001b[0;32m<ipython-input-18-81bf74dd5d7f>\u001b[0m in \u001b[0;36m<cell line: 4>\u001b[0;34m()\u001b[0m\n\u001b[1;32m      2\u001b[0m \u001b[0mprint\u001b[0m\u001b[0;34m(\u001b[0m\u001b[0;34m'G3ポルトガル語の成績平均:'\u001b[0m\u001b[0;34m,\u001b[0m\u001b[0mstudent_data_merge\u001b[0m\u001b[0;34m.\u001b[0m\u001b[0mG3_por\u001b[0m\u001b[0;34m.\u001b[0m\u001b[0mmean\u001b[0m\u001b[0;34m(\u001b[0m\u001b[0;34m)\u001b[0m\u001b[0;34m)\u001b[0m\u001b[0;34m\u001b[0m\u001b[0;34m\u001b[0m\u001b[0m\n\u001b[1;32m      3\u001b[0m \u001b[0;34m\u001b[0m\u001b[0m\n\u001b[0;32m----> 4\u001b[0;31m \u001b[0ma\u001b[0m\u001b[0;34m,\u001b[0m\u001b[0mb\u001b[0m\u001b[0;34m=\u001b[0m\u001b[0mstats\u001b[0m\u001b[0;34m.\u001b[0m\u001b[0mttest_rel\u001b[0m\u001b[0;34m(\u001b[0m\u001b[0mstudent_data_merge\u001b[0m\u001b[0;34m.\u001b[0m\u001b[0mG3_math\u001b[0m\u001b[0;34m,\u001b[0m\u001b[0mstudent_data_merge\u001b[0m\u001b[0;34m.\u001b[0m\u001b[0mG3_por\u001b[0m\u001b[0;34m)\u001b[0m\u001b[0;34m\u001b[0m\u001b[0;34m\u001b[0m\u001b[0m\n\u001b[0m\u001b[1;32m      5\u001b[0m \u001b[0mprint\u001b[0m\u001b[0;34m(\u001b[0m\u001b[0;34m'p値='\u001b[0m\u001b[0;34m,\u001b[0m\u001b[0mb\u001b[0m\u001b[0;34m)\u001b[0m\u001b[0;34m\u001b[0m\u001b[0;34m\u001b[0m\u001b[0m\n",
            "\u001b[0;31mTypeError\u001b[0m: 'tuple' object is not callable"
          ]
        }
      ]
    }
  ]
}