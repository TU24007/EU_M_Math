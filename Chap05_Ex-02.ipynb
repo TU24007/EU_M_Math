{
  "nbformat": 4,
  "nbformat_minor": 0,
  "metadata": {
    "colab": {
      "provenance": [],
      "authorship_tag": "ABX9TyNc90zr8hXhx8yA4/2MLTXY",
      "include_colab_link": true
    },
    "kernelspec": {
      "name": "python3",
      "display_name": "Python 3"
    },
    "language_info": {
      "name": "python"
    }
  },
  "cells": [
    {
      "cell_type": "markdown",
      "metadata": {
        "id": "view-in-github",
        "colab_type": "text"
      },
      "source": [
        "<a href=\"https://colab.research.google.com/github/TU24007/EU_M_Math/blob/main/Chap05_Ex-02.ipynb\" target=\"_parent\"><img src=\"https://colab.research.google.com/assets/colab-badge.svg\" alt=\"Open In Colab\"/></a>"
      ]
    },
    {
      "cell_type": "code",
      "execution_count": 1,
      "metadata": {
        "colab": {
          "base_uri": "https://localhost:8080/",
          "height": 35
        },
        "id": "GjGOnGflZQGZ",
        "outputId": "3d47a42a-5df4-46b3-9cd3-a78e500a98b3"
      },
      "outputs": [
        {
          "output_type": "execute_result",
          "data": {
            "text/plain": [
              "'%.3f'"
            ],
            "application/vnd.google.colaboratory.intrinsic+json": {
              "type": "string"
            }
          },
          "metadata": {},
          "execution_count": 1
        }
      ],
      "source": [
        "import numpy as np\n",
        "import numpy.random as random\n",
        "import scipy as sp\n",
        "import pandas as pd\n",
        "from pandas import Series,DataFrame\n",
        "\n",
        "import matplotlib.pyplot as plt\n",
        "import matplotlib as mpl\n",
        "import seaborn as sns\n",
        "%matplotlib inline\n",
        "\n",
        "%precision 3"
      ]
    },
    {
      "cell_type": "code",
      "source": [
        "cond_data=np.array([True,True,False,False,True])\n",
        "\n",
        "print(cond_data)\n",
        "\n",
        "print(np.unique(cond_data))"
      ],
      "metadata": {
        "colab": {
          "base_uri": "https://localhost:8080/"
        },
        "id": "vQZZyKvYOa8F",
        "outputId": "54a2f154-8554-4379-adf9-188589dfd7ec"
      },
      "execution_count": 2,
      "outputs": [
        {
          "output_type": "stream",
          "name": "stdout",
          "text": [
            "[ True  True False False  True]\n",
            "[False  True]\n"
          ]
        }
      ]
    },
    {
      "cell_type": "code",
      "source": [
        "sample_data=np.arange(10)\n",
        "print('元のデータ:',sample_data)\n",
        "print('すべての要素の平方根:',np.sqrt(sample_data))\n",
        "print('すべての要素のネイビア指数関数:',np.exp(sample_data))"
      ],
      "metadata": {
        "colab": {
          "base_uri": "https://localhost:8080/"
        },
        "id": "DJLzjAaQOpBV",
        "outputId": "e89f0b1c-aa9d-44d3-9930-33f465fe6e51"
      },
      "execution_count": 3,
      "outputs": [
        {
          "output_type": "stream",
          "name": "stdout",
          "text": [
            "元のデータ: [0 1 2 3 4 5 6 7 8 9]\n",
            "すべての要素の平方根: [0.    1.    1.414 1.732 2.    2.236 2.449 2.646 2.828 3.   ]\n",
            "すべての要素のネイビア指数関数: [1.000e+00 2.718e+00 7.389e+00 2.009e+01 5.460e+01 1.484e+02 4.034e+02\n",
            " 1.097e+03 2.981e+03 8.103e+03]\n"
          ]
        }
      ]
    },
    {
      "cell_type": "code",
      "source": [
        "sample_multi_array_data1=np.arange(9).reshape(3,3)\n",
        "\n",
        "print(sample_multi_array_data1)\n",
        "\n",
        "print('最小値:',sample_multi_array_data1.min())\n",
        "print('最大値:',sample_multi_array_data1.max())\n",
        "print('平均値:',sample_multi_array_data1.mean())\n",
        "print('合計:',sample_multi_array_data1.sum())\n",
        "\n",
        "print('行の合計:',sample_multi_array_data1.sum(axis=1))\n",
        "print('列の合計:',sample_multi_array_data1.sum(axis=0))"
      ],
      "metadata": {
        "colab": {
          "base_uri": "https://localhost:8080/"
        },
        "id": "GMWTgm68PA1X",
        "outputId": "27ff5c98-b110-498d-f949-c0035a481ac8"
      },
      "execution_count": 4,
      "outputs": [
        {
          "output_type": "stream",
          "name": "stdout",
          "text": [
            "[[0 1 2]\n",
            " [3 4 5]\n",
            " [6 7 8]]\n",
            "最小値: 0\n",
            "最大値: 8\n",
            "平均値: 4.0\n",
            "合計: 36\n",
            "行の合計: [ 3 12 21]\n",
            "列の合計: [ 9 12 15]\n"
          ]
        }
      ]
    },
    {
      "cell_type": "code",
      "source": [
        "coda_data=np.array([True,True,False,False,True])\n",
        "\n",
        "print('Trueが少なくとも1つあるかどうか:',cond_data.any())\n",
        "print('すべてTrueかどうか:',cond_data.all())"
      ],
      "metadata": {
        "colab": {
          "base_uri": "https://localhost:8080/"
        },
        "id": "VPz-bU9sPxWh",
        "outputId": "16b7e2c2-3466-4915-afec-b16c5d790677"
      },
      "execution_count": 6,
      "outputs": [
        {
          "output_type": "stream",
          "name": "stdout",
          "text": [
            "Trueが少なくとも1つあるかどうか: True\n",
            "すべてTrueかどうか: False\n"
          ]
        }
      ]
    },
    {
      "cell_type": "code",
      "source": [
        "sample_multi_array_data1 =np.arange(9).reshape(3,3)\n",
        "print(sample_multi_array_data1)\n",
        "print('5より大きい数字がいくつあるか:',(sample_multi_array_data1>5).sum())"
      ],
      "metadata": {
        "colab": {
          "base_uri": "https://localhost:8080/"
        },
        "id": "0iSaeSrsQLed",
        "outputId": "8c35bf25-69e0-4fdf-f77c-98889b080fd3"
      },
      "execution_count": 7,
      "outputs": [
        {
          "output_type": "stream",
          "name": "stdout",
          "text": [
            "[[0 1 2]\n",
            " [3 4 5]\n",
            " [6 7 8]]\n",
            "5より大きい数字がいくつあるか: 3\n"
          ]
        }
      ]
    },
    {
      "cell_type": "code",
      "source": [
        "sample_multi_array_data1=np.arange(9).reshape(3,3)\n",
        "print(sample_multi_array_data1)\n",
        "\n",
        "print('対角成分:',np.diag(sample_multi_array_data1))\n",
        "print('対角成分の和:',np.trace(sample_multi_array_data1))"
      ],
      "metadata": {
        "colab": {
          "base_uri": "https://localhost:8080/"
        },
        "id": "sp45MBG7Qj6j",
        "outputId": "ad6569d9-3459-4aa7-b3a4-517daf55994a"
      },
      "execution_count": 8,
      "outputs": [
        {
          "output_type": "stream",
          "name": "stdout",
          "text": [
            "[[0 1 2]\n",
            " [3 4 5]\n",
            " [6 7 8]]\n",
            "対角成分: [0 4 8]\n",
            "対角成分の和: 12\n"
          ]
        }
      ]
    },
    {
      "cell_type": "code",
      "source": [
        "#5-4\n",
        "\n",
        "sample_multi_array_data2=np.arange(16).reshape(4,4)\n",
        "sample_multi_array_data2\n",
        "\n",
        "print('平方根を計算した行列:',np.sqrt(sample_multi_array_data2))"
      ],
      "metadata": {
        "colab": {
          "base_uri": "https://localhost:8080/"
        },
        "id": "fOojW0rfQ6yu",
        "outputId": "5be3bbb9-5d76-4e74-8bab-4ad439c8586c"
      },
      "execution_count": 11,
      "outputs": [
        {
          "output_type": "stream",
          "name": "stdout",
          "text": [
            "平方根を計算した行列: [[0.    1.    1.414 1.732]\n",
            " [2.    2.236 2.449 2.646]\n",
            " [2.828 3.    3.162 3.317]\n",
            " [3.464 3.606 3.742 3.873]]\n"
          ]
        }
      ]
    },
    {
      "cell_type": "code",
      "source": [
        "#5-5\n",
        "\n",
        "print('最小値:',sample_multi_array_data2.min())\n",
        "print('最大値:',sample_multi_array_data2.max())\n",
        "print('平均値:',sample_multi_array_data2.mean())\n",
        "print('合計:',sample_multi_array_data2.sum())"
      ],
      "metadata": {
        "colab": {
          "base_uri": "https://localhost:8080/"
        },
        "id": "ZmLVD0XmRsNq",
        "outputId": "3bcb3252-3476-4290-f451-33fbcc0f8afc"
      },
      "execution_count": 12,
      "outputs": [
        {
          "output_type": "stream",
          "name": "stdout",
          "text": [
            "最小値: 0\n",
            "最大値: 15\n",
            "平均値: 7.5\n",
            "合計: 120\n"
          ]
        }
      ]
    },
    {
      "cell_type": "code",
      "source": [
        "#5-6\n",
        "\n",
        "print('対角成分の和:',np.trace(sample_multi_array_data2))"
      ],
      "metadata": {
        "colab": {
          "base_uri": "https://localhost:8080/"
        },
        "id": "9_8sMr6gR5AV",
        "outputId": "1eed6535-9254-4c65-8c2d-dec9b8c7d2f9"
      },
      "execution_count": 13,
      "outputs": [
        {
          "output_type": "stream",
          "name": "stdout",
          "text": [
            "対角成分の和: 30\n"
          ]
        }
      ]
    }
  ]
}