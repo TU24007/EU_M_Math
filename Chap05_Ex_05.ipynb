{
  "nbformat": 4,
  "nbformat_minor": 0,
  "metadata": {
    "colab": {
      "provenance": [],
      "authorship_tag": "ABX9TyPOWAgNX0oShC+3qIiM+ALd",
      "include_colab_link": true
    },
    "kernelspec": {
      "name": "python3",
      "display_name": "Python 3"
    },
    "language_info": {
      "name": "python"
    }
  },
  "cells": [
    {
      "cell_type": "markdown",
      "metadata": {
        "id": "view-in-github",
        "colab_type": "text"
      },
      "source": [
        "<a href=\"https://colab.research.google.com/github/TU24007/EU_M_Math/blob/main/Chap05_Ex_05.ipynb\" target=\"_parent\"><img src=\"https://colab.research.google.com/assets/colab-badge.svg\" alt=\"Open In Colab\"/></a>"
      ]
    },
    {
      "cell_type": "code",
      "execution_count": 1,
      "metadata": {
        "id": "bJeYcuW9cYNA"
      },
      "outputs": [],
      "source": [
        "import numpy as np\n",
        "import numpy,random as random\n",
        "import scipy as sp\n",
        "import pandas as pd\n",
        "from pandas import Series,DataFrame\n",
        "import math\n",
        "from scipy import interpolate\n",
        "\n",
        "import matplotlib.pyplot as plt\n",
        "import matplotlib as mpl\n",
        "import seaborn as sns\n",
        "sns.set()\n",
        "%matplotlib inline\n",
        "\n",
        "%precision 3\n",
        "\n",
        "from sklearn import linear_model\n",
        "np.random.seed(0)\n",
        "\n",
        "import scipy.stats as st\n",
        "from scipy.stats import multivariate_normal\n",
        "from mpl_toolkits.mplot3d import Axes3D\n",
        "import requests,zipfile\n",
        "from io import StringIO\n",
        "import io"
      ]
    },
    {
      "cell_type": "code",
      "source": [
        "B=np.array([[1,2,3],[4,5,6],[7,8,9],[10,11,12]])\n",
        "B"
      ],
      "metadata": {
        "colab": {
          "base_uri": "https://localhost:8080/"
        },
        "id": "HsJovmRpcaAZ",
        "outputId": "f92c656f-271e-47cd-f148-431a7773bdf5"
      },
      "execution_count": 2,
      "outputs": [
        {
          "output_type": "execute_result",
          "data": {
            "text/plain": [
              "array([[ 1,  2,  3],\n",
              "       [ 4,  5,  6],\n",
              "       [ 7,  8,  9],\n",
              "       [10, 11, 12]])"
            ]
          },
          "metadata": {},
          "execution_count": 2
        }
      ]
    },
    {
      "cell_type": "code",
      "source": [
        "U,s,Vs=sp.linalg.svd(B)\n",
        "m,n=B.shape\n",
        "\n",
        "S=sp.linalg.diagsvd(s,m,n)\n",
        "print('U.S.V* = \\n',U@S@Vs)"
      ],
      "metadata": {
        "colab": {
          "base_uri": "https://localhost:8080/"
        },
        "id": "g1VRb4yLcnEo",
        "outputId": "81a58873-13f8-4f52-82dd-7a76e6673417"
      },
      "execution_count": 4,
      "outputs": [
        {
          "output_type": "stream",
          "name": "stdout",
          "text": [
            "U.S.V* = \n",
            " [[ 1.  2.  3.]\n",
            " [ 4.  5.  6.]\n",
            " [ 7.  8.  9.]\n",
            " [10. 11. 12.]]\n"
          ]
        }
      ]
    },
    {
      "cell_type": "code",
      "source": [
        "A=np.identity(3)\n",
        "print(A)\n",
        "A[0,:]=1\n",
        "A[:,0]=1\n",
        "A[0,0]=3\n",
        "b=np.ones(3)\n",
        "print(A)\n",
        "print(b)\n",
        "\n",
        "\n"
      ],
      "metadata": {
        "colab": {
          "base_uri": "https://localhost:8080/"
        },
        "id": "1RsuZJkpdC-P",
        "outputId": "3cfa218f-fd1f-494b-cdc9-b537aed5e5ad"
      },
      "execution_count": 5,
      "outputs": [
        {
          "output_type": "stream",
          "name": "stdout",
          "text": [
            "[[1. 0. 0.]\n",
            " [0. 1. 0.]\n",
            " [0. 0. 1.]]\n",
            "[[3. 1. 1.]\n",
            " [1. 1. 0.]\n",
            " [1. 0. 1.]]\n",
            "[1. 1. 1.]\n"
          ]
        }
      ]
    },
    {
      "cell_type": "code",
      "source": [
        "(LU,piv)=sp.linalg.lu_factor(A)\n",
        "\n",
        "L=np.identity(3)+np.tril(LU,-1)\n",
        "U=np.triu(LU)\n",
        "P=np.identity(3)[piv]\n",
        "\n",
        "x=sp.linalg.lu_solve((LU,piv),b)\n",
        "x"
      ],
      "metadata": {
        "colab": {
          "base_uri": "https://localhost:8080/"
        },
        "id": "n-ama1a9dbck",
        "outputId": "0b21e5ed-74d7-4a91-e410-2c39154a68c8"
      },
      "execution_count": 7,
      "outputs": [
        {
          "output_type": "execute_result",
          "data": {
            "text/plain": [
              "array([-1.,  2.,  2.])"
            ]
          },
          "metadata": {},
          "execution_count": 7
        }
      ]
    }
  ]
}