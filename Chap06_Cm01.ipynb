{
  "nbformat": 4,
  "nbformat_minor": 0,
  "metadata": {
    "colab": {
      "provenance": [],
      "authorship_tag": "ABX9TyNJIdRzLPZb+IBojwS1+L76",
      "include_colab_link": true
    },
    "kernelspec": {
      "name": "python3",
      "display_name": "Python 3"
    },
    "language_info": {
      "name": "python"
    }
  },
  "cells": [
    {
      "cell_type": "markdown",
      "metadata": {
        "id": "view-in-github",
        "colab_type": "text"
      },
      "source": [
        "<a href=\"https://colab.research.google.com/github/TU24007/EU_M_Math/blob/main/Chap06_Cm01.ipynb\" target=\"_parent\"><img src=\"https://colab.research.google.com/assets/colab-badge.svg\" alt=\"Open In Colab\"/></a>"
      ]
    },
    {
      "cell_type": "code",
      "execution_count": 6,
      "metadata": {
        "id": "sOE1dFPHHUMm"
      },
      "outputs": [],
      "source": [
        "import numpy as np\n",
        "import numpy,random as random\n",
        "import scipy as sp\n",
        "import pandas as pd\n",
        "from pandas import Series,DataFrame\n",
        "import math\n",
        "from scipy import interpolate\n",
        "\n",
        "import matplotlib.pyplot as plt\n",
        "import matplotlib as mpl\n",
        "import seaborn as sns\n",
        "sns.set()\n",
        "%matplotlib inline\n",
        "\n",
        "%precision 3\n",
        "\n",
        "from sklearn import linear_model\n",
        "np.random.seed(0)\n",
        "\n",
        "import scipy.stats as st\n",
        "from scipy.stats import multivariate_normal\n",
        "from mpl_toolkits.mplot3d import Axes3D\n",
        "import requests,zipfile\n",
        "from io import StringIO\n",
        "import io\n",
        "\n",
        "from scipy import integrate\n",
        "import math"
      ]
    },
    {
      "cell_type": "code",
      "source": [
        "#5-1\n",
        "A=np.array([[5,1,0,1],\n",
        "           [1,9,-5,7],\n",
        "           [0,-5,8,-3],\n",
        "           [1,7,-3,10]])\n",
        "b=np.array([2,10,5,10])"
      ],
      "metadata": {
        "id": "2eNmm-sGHW5h"
      },
      "execution_count": 3,
      "outputs": []
    },
    {
      "cell_type": "code",
      "source": [
        "#5-1\n",
        "L=sp.linalg.cholesky(A)\n",
        "\n",
        "t=sp.linalg.solve(L.T.conj(),b)\n",
        "x=sp.linalg.solve(L,t)\n",
        "\n",
        "print(x)"
      ],
      "metadata": {
        "colab": {
          "base_uri": "https://localhost:8080/"
        },
        "id": "41GOc71GH8M6",
        "outputId": "beefd25a-3c02-4a1a-a7ab-c91cc17f5621"
      },
      "execution_count": 5,
      "outputs": [
        {
          "output_type": "stream",
          "name": "stdout",
          "text": [
            "[-0.051  2.157  2.01   0.098]\n"
          ]
        }
      ]
    },
    {
      "cell_type": "code",
      "source": [
        "#5-2\n",
        "\n",
        "integrate.dblquad(lambda x,y:1/(np.sqrt(x+y)*(1+x+y)**2),0,1,lambda x:0,lambda x:1-x)"
      ],
      "metadata": {
        "colab": {
          "base_uri": "https://localhost:8080/"
        },
        "id": "l9-IGLVGIQCF",
        "outputId": "bf1d4923-543f-4efc-92d3-4c69948e3ef5"
      },
      "execution_count": 7,
      "outputs": [
        {
          "output_type": "execute_result",
          "data": {
            "text/plain": [
              "(0.285, 0.000)"
            ]
          },
          "metadata": {},
          "execution_count": 7
        }
      ]
    },
    {
      "cell_type": "code",
      "source": [
        "#5-3\n",
        "from scipy.optimize import minimize\n",
        "\n",
        "def func(x):\n",
        "  return x ** 2 + 1\n",
        "\n",
        "def cons(x):\n",
        "  return(x+1)\n",
        "\n",
        "cons=(\n",
        "    {'type':'ineq','fun':cons}\n",
        ")\n",
        "\n",
        "x=-10\n",
        "\n",
        "result=minimize(func,x0=x,constraints=cons,method='SLSQP')\n",
        "print(result)"
      ],
      "metadata": {
        "colab": {
          "base_uri": "https://localhost:8080/"
        },
        "id": "EA5HVg6WI0tl",
        "outputId": "0b60a164-27dd-42ff-b84c-0ba2c7d055f4"
      },
      "execution_count": 12,
      "outputs": [
        {
          "output_type": "stream",
          "name": "stdout",
          "text": [
            " message: Optimization terminated successfully\n",
            " success: True\n",
            "  status: 0\n",
            "     fun: 1.0\n",
            "       x: [ 0.000e+00]\n",
            "     nit: 2\n",
            "     jac: [ 1.490e-08]\n",
            "    nfev: 5\n",
            "    njev: 2\n"
          ]
        }
      ]
    },
    {
      "cell_type": "code",
      "source": [],
      "metadata": {
        "id": "wK-uJ-vYI7_a"
      },
      "execution_count": null,
      "outputs": []
    }
  ]
}