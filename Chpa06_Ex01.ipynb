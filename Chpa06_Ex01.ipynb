{
  "nbformat": 4,
  "nbformat_minor": 0,
  "metadata": {
    "colab": {
      "provenance": [],
      "authorship_tag": "ABX9TyPK6vYpMWGwI819GjbImaa3",
      "include_colab_link": true
    },
    "kernelspec": {
      "name": "python3",
      "display_name": "Python 3"
    },
    "language_info": {
      "name": "python"
    }
  },
  "cells": [
    {
      "cell_type": "markdown",
      "metadata": {
        "id": "view-in-github",
        "colab_type": "text"
      },
      "source": [
        "<a href=\"https://colab.research.google.com/github/TU24007/EU_M_Math/blob/main/Chpa06_Ex01.ipynb\" target=\"_parent\"><img src=\"https://colab.research.google.com/assets/colab-badge.svg\" alt=\"Open In Colab\"/></a>"
      ]
    },
    {
      "cell_type": "code",
      "execution_count": null,
      "metadata": {
        "id": "s0uC1L6BbXux"
      },
      "outputs": [],
      "source": [
        "import numpy as np\n",
        "import numpy,random as random\n",
        "import scipy as sp\n",
        "import pandas as pd\n",
        "from pandas import Series,DataFrame\n",
        "import math\n",
        "from numpy import nan as NA\n",
        "\n",
        "import matplotlib.pyplot as plt\n",
        "import matplotlib as mpl\n",
        "import seaborn as sns\n",
        "sns.set()\n",
        "%matplotlib inline\n",
        "\n",
        "%precision 3"
      ]
    },
    {
      "cell_type": "code",
      "source": [
        "#6-1\n",
        "hier_df1=DataFrame(\n",
        "    np.arange(12).reshape((3,4)),\n",
        "    index=[['c','d','d'],[1,2,1]],\n",
        "    columns=[\n",
        "        ['Kyoto','Nagoya','Hokkaido','Kyoto'],\n",
        "        ['Yellow','Yellow','Red','Blue']\n",
        "    ]\n",
        ")\n",
        "\n",
        "hier_df1.index.names=['key1', 'key2']\n",
        "hier_df1.columns.names=['city','color']\n",
        "hier_df1"
      ],
      "metadata": {
        "id": "b1tOVfCtbZCs"
      },
      "execution_count": null,
      "outputs": []
    },
    {
      "cell_type": "code",
      "source": [
        "#6-2\n",
        "hier_df1.groupby(level='city', axis=1).mean()"
      ],
      "metadata": {
        "id": "GVLeeggRcCcZ"
      },
      "execution_count": null,
      "outputs": []
    },
    {
      "cell_type": "code",
      "source": [
        "#6-3\n",
        "hier_df1.groupby(level='key2', axis=0).sum()"
      ],
      "metadata": {
        "id": "jyGC198ScO9T"
      },
      "execution_count": null,
      "outputs": []
    },
    {
      "cell_type": "code",
      "source": [
        "#6-4\n",
        "data4={\n",
        "    'id':['0','1','2','3','4','6','8','11','12','13'],\n",
        "    'city':['Tokyo','Osaka','Kyoto','Hokkaido','Tokyo','Tokyo','Osaka','Kyoto','Hokkaido','Tokyo'],\n",
        "    'birth_year':[1990,1989,1992,1997,1982,1991,1988,1990,1995,1981],\n",
        "    'name':['Hiroshi','Akiko','Yuki','Satoru','Steeve','Mituru','Aoi','Tarou','Suguru','Mitsuo']\n",
        "}\n",
        "df4=DataFrame(data4)\n",
        "df4"
      ],
      "metadata": {
        "id": "kHxnPI5aclm3"
      },
      "execution_count": null,
      "outputs": []
    },
    {
      "cell_type": "code",
      "source": [
        "#6-4\n",
        "data5={\n",
        "    'id':['0','1','3','6','8'],\n",
        "    'math':[20,30,50,70,90],\n",
        "    'english':[30,50,50,70,20],\n",
        "    'sex':['M','F','F','M','M'],\n",
        "    'index_num':[0,1,2,3,4]\n",
        "}\n",
        "df5=DataFrame(data5)\n",
        "df5"
      ],
      "metadata": {
        "id": "2rvMnHRqdGnl"
      },
      "execution_count": null,
      "outputs": []
    },
    {
      "cell_type": "code",
      "source": [
        "#6-4\n",
        "pd.merge(df4,df5,on='id')"
      ],
      "metadata": {
        "id": "7_W91Qdbdt7u"
      },
      "execution_count": null,
      "outputs": []
    },
    {
      "cell_type": "code",
      "source": [
        "#6-5\n",
        "pd.merge(df4,df5,how='outer')"
      ],
      "metadata": {
        "id": "w8fxTmv_d3mf"
      },
      "execution_count": null,
      "outputs": []
    },
    {
      "cell_type": "code",
      "source": [
        "#6-6\n",
        "data6={\n",
        "    'id':['70','80','90','120','150'],\n",
        "    'city':['Chiba','Kanagawa','Tokyo','Fukuoka','Okinawa'],\n",
        "    'birth_year':[1980,1999,1995,1994,1994],\n",
        "    'name':['Suguru','Kouichi','Satochi','Yukie','Akari']\n",
        "}\n",
        "df6=DataFrame(data6)\n",
        "df6"
      ],
      "metadata": {
        "id": "gPO_LrmJeQA4"
      },
      "execution_count": null,
      "outputs": []
    },
    {
      "cell_type": "code",
      "source": [
        "#6-6\n",
        "concat_data1=pd.concat([df4,df6])\n",
        "concat_data1"
      ],
      "metadata": {
        "id": "2Vwm0FJYexd2"
      },
      "execution_count": null,
      "outputs": []
    },
    {
      "cell_type": "code",
      "source": [
        "#6-7\n",
        "import requests,zipfile\n",
        "from io import StringIO\n",
        "import io"
      ],
      "metadata": {
        "id": "cMY5lZ9_e4_X"
      },
      "execution_count": null,
      "outputs": []
    },
    {
      "cell_type": "code",
      "source": [
        "url = 'https://archive.ics.uci.edu/ml/machine-learning-databases/00356/student.zip'\n",
        "\n",
        "r=requests.get(url,stream=True)\n",
        "\n",
        "z=zipfile.ZipFile(io.BytesIO(r.content))\n",
        "z.extractall()\n",
        "student_data_math=pd.read_csv('student-mat.csv')"
      ],
      "metadata": {
        "id": "_yu6UQl9fh_j"
      },
      "execution_count": null,
      "outputs": []
    },
    {
      "cell_type": "code",
      "source": [
        "student_data_math = pd.read_csv('student-mat.csv',sep=';')\n"
      ],
      "metadata": {
        "id": "IRivF8Cofj4v"
      },
      "execution_count": null,
      "outputs": []
    },
    {
      "cell_type": "code",
      "source": [
        "student_data_math"
      ],
      "metadata": {
        "id": "XF2ZiJhvgDxm"
      },
      "execution_count": null,
      "outputs": []
    },
    {
      "cell_type": "code",
      "source": [
        "student_data_math.stack()"
      ],
      "metadata": {
        "id": "tDS18VCDgO81"
      },
      "execution_count": null,
      "outputs": []
    },
    {
      "cell_type": "code",
      "source": [
        "#6-8\n",
        "absences_bins=[0,1,5,100]\n",
        "student_data_math_cut=pd.cut(student_data_math.absences,absences_bins)\n",
        "student_data_math_cut"
      ],
      "metadata": {
        "id": "3z5RBjKrgaTZ"
      },
      "execution_count": null,
      "outputs": []
    },
    {
      "cell_type": "code",
      "source": [
        "#6-9\n",
        "pd.value_counts(pd.qcut(student_data_math.absences,3))"
      ],
      "metadata": {
        "id": "k0H9FY_nhCLH"
      },
      "execution_count": null,
      "outputs": []
    },
    {
      "cell_type": "code",
      "source": [
        "#6-10\n",
        "student_data_math.groupby('school').size()"
      ],
      "metadata": {
        "id": "r9HMKWkGhbop"
      },
      "execution_count": null,
      "outputs": []
    },
    {
      "cell_type": "code",
      "source": [
        "student_data_math.groupby('school')['G1'].mean()"
      ],
      "metadata": {
        "id": "lgXXEpHSh1GV"
      },
      "execution_count": null,
      "outputs": []
    },
    {
      "cell_type": "code",
      "source": [
        "#6-11\n",
        "student_data_math.groupby(['school','sex'])['G1'].mean()"
      ],
      "metadata": {
        "id": "I6eMQjU7iAGW"
      },
      "execution_count": null,
      "outputs": []
    },
    {
      "cell_type": "code",
      "source": [
        "student_data_math.groupby(['school','sex'])['G2'].mean()"
      ],
      "metadata": {
        "id": "CRiHGTN6iMnz"
      },
      "execution_count": null,
      "outputs": []
    },
    {
      "cell_type": "code",
      "source": [
        "student_data_math.groupby(['school','sex'])['G3'].mean()"
      ],
      "metadata": {
        "id": "rhCF1p3AinNR"
      },
      "execution_count": null,
      "outputs": []
    },
    {
      "cell_type": "code",
      "source": [
        "#6-12\n",
        "functions=['max','min']\n",
        "student_math_data2=student_data_math.groupby(['school','sex'])\n",
        "rist=student_math_data2[['G1','G2','G3']].agg(functions)\n",
        "rist"
      ],
      "metadata": {
        "id": "pClb7kexioVj"
      },
      "execution_count": null,
      "outputs": []
    },
    {
      "cell_type": "code",
      "source": [
        "df=pd.DataFrame(np.random.rand(15,6))\n",
        "\n",
        "df.iloc[2,0]=NA\n",
        "df.iloc[5:8,2]=NA\n",
        "df.iloc[7:9,3]=NA\n",
        "df.iloc[10,5]=NA"
      ],
      "metadata": {
        "id": "t_QKmU50TqIv"
      },
      "execution_count": null,
      "outputs": []
    },
    {
      "cell_type": "code",
      "source": [
        "#6-13\n",
        "df.dropna()"
      ],
      "metadata": {
        "id": "wiDF9EJyjB6G"
      },
      "execution_count": null,
      "outputs": []
    },
    {
      "cell_type": "code",
      "source": [
        "#6-14\n",
        "df.fillna(0)"
      ],
      "metadata": {
        "id": "HQ7kldg_XZwx"
      },
      "execution_count": null,
      "outputs": []
    },
    {
      "cell_type": "code",
      "source": [
        "#6-15\n",
        "df.fillna(df.mean())"
      ],
      "metadata": {
        "id": "Ib3Jf9EJXhEf"
      },
      "execution_count": null,
      "outputs": []
    },
    {
      "cell_type": "code",
      "source": [
        "df.mean()"
      ],
      "metadata": {
        "id": "D39MLMJCaY-w"
      },
      "execution_count": null,
      "outputs": []
    },
    {
      "cell_type": "code",
      "source": [
        "#6-16\n",
        "import pandas_datareader.data as pdr\n",
        "start_data='2001/1/2'\n",
        "end_data='2016/12/30'\n",
        "\n",
        "fx_jpusdata=pdr.DataReader('DEXJPUS', 'fred', start_data, end_data)\n",
        "fx_jpusdata.resample('Y').mean().head()"
      ],
      "metadata": {
        "id": "pUigItznXqR5"
      },
      "execution_count": null,
      "outputs": []
    },
    {
      "cell_type": "code",
      "source": [
        "#6-17\n",
        "fx_jpusdata_rolling20=fx_jpusdata.rolling(20).mean().dropna()\n",
        "fx_jpusdata_rolling20.head()"
      ],
      "metadata": {
        "id": "iLsuS253X4Rn"
      },
      "execution_count": null,
      "outputs": []
    }
  ]
}